{
  "nbformat": 4,
  "nbformat_minor": 0,
  "metadata": {
    "kernelspec": {
      "display_name": "Python 3",
      "language": "python",
      "name": "python3"
    },
    "language_info": {
      "codemirror_mode": {
        "name": "ipython",
        "version": 3
      },
      "file_extension": ".py",
      "mimetype": "text/x-python",
      "name": "python",
      "nbconvert_exporter": "python",
      "pygments_lexer": "ipython3",
      "version": "3.8.6"
    },
    "varInspector": {
      "cols": {
        "lenName": 16,
        "lenType": 16,
        "lenVar": 40
      },
      "kernels_config": {
        "python": {
          "delete_cmd_postfix": "",
          "delete_cmd_prefix": "del ",
          "library": "var_list.py",
          "varRefreshCmd": "print(var_dic_list())"
        },
        "r": {
          "delete_cmd_postfix": ") ",
          "delete_cmd_prefix": "rm(",
          "library": "var_list.r",
          "varRefreshCmd": "cat(var_dic_list()) "
        }
      },
      "types_to_exclude": [
        "module",
        "function",
        "builtin_function_or_method",
        "instance",
        "_Feature"
      ],
      "window_display": false
    },
    "colab": {
      "name": "Create_paired_images.ipynb",
      "provenance": [],
      "collapsed_sections": []
    }
  },
  "cells": [
    {
      "cell_type": "markdown",
      "metadata": {
        "id": "7f4WVmd3vAgq"
      },
      "source": [
        "# Concatenating a,b image pairs and saving them to google drive"
      ]
    },
    {
      "cell_type": "code",
      "metadata": {
        "id": "ECgMpQap5bK0"
      },
      "source": [
        "import cv2\n",
        "import os\n",
        "import numpy as np\n",
        "import matplotlib.pyplot as plt\n",
        "import matplotlib.image as mpimg\n",
        "import tarfile"
      ],
      "execution_count": 3,
      "outputs": []
    },
    {
      "cell_type": "markdown",
      "metadata": {
        "id": "H2QPnt0PraAx"
      },
      "source": [
        "1. Create folder in google drive called 'MRI_cGAN'\n",
        "2. Add Ilka's imagedata.tar file to that folder\n",
        "3. Create two empty folders called 'test' and 'train' in 'MRI_cGAN'\n",
        "4. Click on the link and copy/paste the password. This gives me access to all of your banking information."
      ]
    },
    {
      "cell_type": "code",
      "metadata": {
        "id": "NuQjGhGZ7DFz",
        "colab": {
          "base_uri": "https://localhost:8080/"
        },
        "outputId": "9fa62e79-fa13-408f-903e-03da1c23d594"
      },
      "source": [
        "from google.colab import drive\n",
        "drive.mount('/content/drive')  \n"
      ],
      "execution_count": 4,
      "outputs": [
        {
          "output_type": "stream",
          "text": [
            "Mounted at /content/drive\n"
          ],
          "name": "stdout"
        }
      ]
    },
    {
      "cell_type": "code",
      "metadata": {
        "id": "23YF3vlB7pJ8"
      },
      "source": [
        "google_drive_PATH = 'drive/MyDrive/MRI_cGAN/'   # directory to MRI_cGAN folder in google drive. If this doesn't work, click the folder tab on the left to check the path from drive to the desired folder. \n",
        "\n",
        "my_tar = tarfile.open(google_drive_PATH + 'imagedata.tar')   # imagedata.tar  is name of file ilka gave us. Put this file in google drive folder.\n",
        "my_tar.extractall('./temporary') # Created temporary folder where I put A and B files in. This is never saved. \n",
        "my_tar.close()"
      ],
      "execution_count": 7,
      "outputs": []
    },
    {
      "cell_type": "markdown",
      "metadata": {
        "id": "HREs0o0hviJb"
      },
      "source": [
        "Get all file names in A and B folders."
      ]
    },
    {
      "cell_type": "code",
      "metadata": {
        "colab": {
          "base_uri": "https://localhost:8080/"
        },
        "id": "_DUXWvqg5bK7",
        "outputId": "31ff8870-4ff3-4f62-9204-aac5dafacfc4"
      },
      "source": [
        "A_PATH = 'temporary/A/'   # in temporary folder there should be A and B folders\n",
        "B_PATH = 'temporary/B/'\n",
        "A_file_names = os.listdir(A_PATH)  # extract all names of files in A folder.\n",
        "A_file_names.sort()   # order names of files numerically, not alphabetically (maybe unnecesary)\n",
        "B_file_names = os.listdir(B_PATH)  \n",
        "B_file_names.sort()\n",
        "print(np.shape(A_file_names))  # should be (8160,) because 8160 files in folder A\n",
        "print(np.shape(B_file_names))"
      ],
      "execution_count": 9,
      "outputs": [
        {
          "output_type": "stream",
          "text": [
            "(8160,)\n",
            "(8160,)\n"
          ],
          "name": "stdout"
        }
      ]
    },
    {
      "cell_type": "markdown",
      "metadata": {
        "id": "QCkqW4ytsnwT"
      },
      "source": [
        "This cell should take roughly 15 min to run. We are creating 8160 new images and saving them to your google drive, split into two folders called 'test' and 'drive'.\n"
      ]
    },
    {
      "cell_type": "code",
      "metadata": {
        "colab": {
          "base_uri": "https://localhost:8080/"
        },
        "id": "M5cOqSpB5bK9",
        "outputId": "11a789a0-6977-4aa7-9463-986506859976"
      },
      "source": [
        "for n, (a,b) in enumerate(zip(A_file_names,B_file_names)):\n",
        "    num_label = a[0:len(a)-4]   # extract number from name file\n",
        "    if a != b:   # if nth file from folder A and B don't have same name, something is wrong\n",
        "        print('Error: Files dont match up.')\n",
        "    elif int(num_label) < 6900:       # create training set from first 6900 images    \n",
        "        img_a = cv2.imread(A_PATH + a) \n",
        "        img_b = cv2.imread(B_PATH + b)\n",
        "        img_c = cv2.hconcat([img_a, img_b])   # concatenate image a and image b\n",
        "        cv2.imwrite(google_drive_PATH + 'train/train' + num_label + '.png', img_c)  # save concatenated image to new folder called train, with name 'train#.png'\n",
        "    else:                             # create test set from last (8160-6900+1) images\n",
        "        img_a = cv2.imread(A_PATH + a) \n",
        "        img_b = cv2.imread(B_PATH + b)\n",
        "        img_c = cv2.hconcat([img_a, img_b]) # concatenate image a and image b\n",
        "        cv2.imwrite(google_drive_PATH + 'test/test' + num_label + '.png', img_c)  # save concatenated image to new folder called test, with name 'test#.png'\n",
        "        #plt.imshow(img_c) \n",
        "        #plt.show\n",
        "    if n % 1000 == 0:\n",
        "      print(n)\n",
        "    \n",
        "    # TODO: randomly seperate files into train and test folders \n",
        "\n",
        "print('done')"
      ],
      "execution_count": 17,
      "outputs": [
        {
          "output_type": "stream",
          "text": [
            "0\n",
            "100\n",
            "200\n",
            "300\n",
            "400\n",
            "500\n",
            "600\n",
            "700\n",
            "800\n",
            "900\n",
            "1000\n",
            "1100\n",
            "1200\n",
            "1300\n",
            "1400\n",
            "1500\n",
            "1600\n",
            "1700\n",
            "1800\n",
            "1900\n",
            "2000\n",
            "2100\n",
            "2200\n",
            "2300\n",
            "2400\n",
            "2500\n",
            "2600\n",
            "2700\n",
            "2800\n",
            "2900\n",
            "3000\n",
            "3100\n",
            "3200\n",
            "3300\n",
            "3400\n",
            "3500\n",
            "3600\n",
            "3700\n",
            "3800\n",
            "3900\n",
            "4000\n",
            "4100\n",
            "4200\n",
            "4300\n",
            "4400\n",
            "4500\n",
            "4600\n",
            "4700\n",
            "4800\n",
            "4900\n",
            "5000\n",
            "5100\n",
            "5200\n",
            "5300\n",
            "5400\n",
            "5500\n",
            "5600\n",
            "5700\n",
            "5800\n",
            "5900\n",
            "6000\n",
            "6100\n",
            "6200\n",
            "6300\n",
            "6400\n",
            "6500\n",
            "6600\n",
            "6700\n",
            "6800\n",
            "6900\n",
            "7000\n",
            "7100\n",
            "7200\n",
            "7300\n",
            "7400\n",
            "7500\n",
            "7600\n",
            "7700\n",
            "7800\n",
            "7900\n",
            "8000\n",
            "8100\n",
            "done\n"
          ],
          "name": "stdout"
        }
      ]
    },
    {
      "cell_type": "markdown",
      "metadata": {
        "id": "frhTl8YptGX5"
      },
      "source": [
        "Check your google drive. The 'test' and 'train' folder should be full of images."
      ]
    },
    {
      "cell_type": "code",
      "metadata": {
        "colab": {
          "base_uri": "https://localhost:8080/"
        },
        "id": "mgcsKxL55bK-",
        "outputId": "38feac7f-9a1c-418c-ddb1-138c05d3b101"
      },
      "source": [
        "train_file_names = os.listdir(google_drive_PATH + 'train/')\n",
        "print(np.shape(train_file_names))\n",
        "test_file_names = os.listdir(google_drive_PATH + 'test/')\n",
        "print(np.shape(test_file_names))\n",
        "\n",
        "# output here should be (6899,) and (1261,)\n"
      ],
      "execution_count": 18,
      "outputs": [
        {
          "output_type": "stream",
          "text": [
            "(6899,)\n",
            "(1261,)\n"
          ],
          "name": "stdout"
        }
      ]
    },
    {
      "cell_type": "code",
      "metadata": {
        "id": "5hEhY47v5bK-"
      },
      "source": [
        ""
      ],
      "execution_count": null,
      "outputs": []
    },
    {
      "cell_type": "code",
      "metadata": {
        "id": "AW7quNCK5bK-"
      },
      "source": [
        ""
      ],
      "execution_count": null,
      "outputs": []
    }
  ]
}